{
 "cells": [
  {
   "cell_type": "code",
   "execution_count": 2,
   "id": "b0aa552b",
   "metadata": {},
   "outputs": [
    {
     "ename": "SyntaxError",
     "evalue": "invalid syntax (<ipython-input-2-78de9650e35b>, line 1)",
     "output_type": "error",
     "traceback": [
      "\u001b[0;36m  File \u001b[0;32m\"<ipython-input-2-78de9650e35b>\"\u001b[0;36m, line \u001b[0;32m1\u001b[0m\n\u001b[0;31m    My name is Arun\u001b[0m\n\u001b[0m       ^\u001b[0m\n\u001b[0;31mSyntaxError\u001b[0m\u001b[0;31m:\u001b[0m invalid syntax\n"
     ]
    }
   ],
   "source": [
    "My name is Arun"
   ]
  },
  {
   "cell_type": "code",
   "execution_count": 4,
   "id": "b665f5c7",
   "metadata": {},
   "outputs": [
    {
     "name": "stdout",
     "output_type": "stream",
     "text": [
      "My name is Arun\n"
     ]
    }
   ],
   "source": [
    "print(\"My name is Arun\")"
   ]
  },
  {
   "cell_type": "raw",
   "id": "75644401",
   "metadata": {},
   "source": [
    "Arun"
   ]
  },
  {
   "cell_type": "code",
   "execution_count": 5,
   "id": "067aacba",
   "metadata": {},
   "outputs": [
    {
     "name": "stdout",
     "output_type": "stream",
     "text": [
      "Testing\n"
     ]
    }
   ],
   "source": [
    "print(\"Testing\")"
   ]
  },
  {
   "cell_type": "code",
   "execution_count": null,
   "id": "4ef75708",
   "metadata": {},
   "outputs": [],
   "source": []
  }
 ],
 "metadata": {
  "kernelspec": {
   "display_name": "Python 3",
   "language": "python",
   "name": "python3"
  },
  "language_info": {
   "codemirror_mode": {
    "name": "ipython",
    "version": 3
   },
   "file_extension": ".py",
   "mimetype": "text/x-python",
   "name": "python",
   "nbconvert_exporter": "python",
   "pygments_lexer": "ipython3",
   "version": "3.8.8"
  }
 },
 "nbformat": 4,
 "nbformat_minor": 5
}
